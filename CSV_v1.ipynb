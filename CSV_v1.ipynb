{
 "cells": [
  {
   "cell_type": "code",
   "execution_count": 6,
   "id": "21d2075e-7e39-498f-9a96-6958f5d99957",
   "metadata": {},
   "outputs": [
    {
     "name": "stdout",
     "output_type": "stream",
     "text": [
      "2\n"
     ]
    }
   ],
   "source": [
    "import os\n",
    "import pandas as pd\n",
    "from pandasai import Agent\n",
    "\n",
    "os.environ[\"PANDASAI_API_KEY\"] = \"$2a$10$R/j.oBm1k1A/ND0uQS8uKegnoHshq1EffC5SYPTZtNA8bcPrDLj7m\"\n",
    "\n",
    "df = pd.read_csv('urgencia.csv', delimiter=';')\n",
    "# Sample DataFrame\n",
    "agent = Agent(df)\n",
    "\n",
    "# By default, unless you choose a different LLM, it will use BambooLLM.\n",
    "# You can get your free API key signing up at https://pandabi.ai (you can also configure it in your .env file)\n",
    "\n",
    "\n",
    "response = agent.chat(\"¿Cuántas tareas fueron de urgency media?\")\n",
    "print(response)"
   ]
  },
  {
   "cell_type": "code",
   "execution_count": null,
   "id": "15d46809-e23c-48f1-b138-26d8c9ed03b8",
   "metadata": {},
   "outputs": [],
   "source": []
  }
 ],
 "metadata": {
  "kernelspec": {
   "display_name": "Python 3 (ipykernel)",
   "language": "python",
   "name": "python3"
  },
  "language_info": {
   "codemirror_mode": {
    "name": "ipython",
    "version": 3
   },
   "file_extension": ".py",
   "mimetype": "text/x-python",
   "name": "python",
   "nbconvert_exporter": "python",
   "pygments_lexer": "ipython3",
   "version": "3.11.9"
  }
 },
 "nbformat": 4,
 "nbformat_minor": 5
}
